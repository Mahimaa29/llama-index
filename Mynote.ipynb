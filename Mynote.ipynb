{
 "cells": [
  {
   "cell_type": "markdown",
   "metadata": {},
   "source": [
    "resumebot"
   ]
  },
  {
   "cell_type": "code",
   "execution_count": 1,
   "metadata": {},
   "outputs": [
    {
     "name": "stderr",
     "output_type": "stream",
     "text": [
      "c:\\task2\\venv\\Lib\\site-packages\\tqdm\\auto.py:21: TqdmWarning: IProgress not found. Please update jupyter and ipywidgets. See https://ipywidgets.readthedocs.io/en/stable/user_install.html\n",
      "  from .autonotebook import tqdm as notebook_tqdm\n"
     ]
    },
    {
     "name": "stdout",
     "output_type": "stream",
     "text": [
      "./resume_index\n"
     ]
    },
    {
     "ename": "AttributeError",
     "evalue": "type object 'StorageContext' has no attribute 'from_dir'",
     "output_type": "error",
     "traceback": [
      "\u001b[1;31m---------------------------------------------------------------------------\u001b[0m",
      "\u001b[1;31mAttributeError\u001b[0m                            Traceback (most recent call last)",
      "Cell \u001b[1;32mIn[1], line 59\u001b[0m\n\u001b[0;32m     56\u001b[0m         \u001b[38;5;28mprint\u001b[39m(\u001b[38;5;124mf\u001b[39m\u001b[38;5;124m\"\u001b[39m\u001b[38;5;124mResponse: \u001b[39m\u001b[38;5;132;01m{\u001b[39;00mresume_qa\u001b[38;5;241m.\u001b[39mquery_resume(query)\u001b[38;5;132;01m}\u001b[39;00m\u001b[38;5;130;01m\\n\u001b[39;00m\u001b[38;5;124m\"\u001b[39m)\n\u001b[0;32m     58\u001b[0m \u001b[38;5;28;01mif\u001b[39;00m \u001b[38;5;18m__name__\u001b[39m \u001b[38;5;241m==\u001b[39m \u001b[38;5;124m\"\u001b[39m\u001b[38;5;124m__main__\u001b[39m\u001b[38;5;124m\"\u001b[39m:\n\u001b[1;32m---> 59\u001b[0m     \u001b[43mmain\u001b[49m\u001b[43m(\u001b[49m\u001b[43m)\u001b[49m\n",
      "Cell \u001b[1;32mIn[1], line 47\u001b[0m, in \u001b[0;36mmain\u001b[1;34m()\u001b[0m\n\u001b[0;32m     44\u001b[0m resume_path \u001b[38;5;241m=\u001b[39m \u001b[38;5;124m'\u001b[39m\u001b[38;5;124mres.pdf\u001b[39m\u001b[38;5;124m'\u001b[39m\n\u001b[0;32m     46\u001b[0m resume_qa \u001b[38;5;241m=\u001b[39m ResumeQASystem(resume_path)\n\u001b[1;32m---> 47\u001b[0m \u001b[43mresume_qa\u001b[49m\u001b[38;5;241;43m.\u001b[39;49m\u001b[43mload_existing_index\u001b[49m\u001b[43m(\u001b[49m\u001b[43m)\u001b[49m\n\u001b[0;32m     49\u001b[0m queries \u001b[38;5;241m=\u001b[39m [\n\u001b[0;32m     50\u001b[0m     \u001b[38;5;124m\"\u001b[39m\u001b[38;5;124mWhat is my work experience?\u001b[39m\u001b[38;5;124m\"\u001b[39m,\n\u001b[0;32m     51\u001b[0m     \u001b[38;5;124m\"\u001b[39m\u001b[38;5;124mWhere did I complete my education?\u001b[39m\u001b[38;5;124m\"\u001b[39m\n\u001b[0;32m     52\u001b[0m ]\n\u001b[0;32m     54\u001b[0m \u001b[38;5;28;01mfor\u001b[39;00m query \u001b[38;5;129;01min\u001b[39;00m queries:\n",
      "Cell \u001b[1;32mIn[1], line 28\u001b[0m, in \u001b[0;36mResumeQASystem.load_existing_index\u001b[1;34m(self)\u001b[0m\n\u001b[0;32m     26\u001b[0m \u001b[38;5;28;01mif\u001b[39;00m os\u001b[38;5;241m.\u001b[39mpath\u001b[38;5;241m.\u001b[39mexists(\u001b[38;5;28mself\u001b[39m\u001b[38;5;241m.\u001b[39mstorage_dir):\n\u001b[0;32m     27\u001b[0m     \u001b[38;5;28mprint\u001b[39m(\u001b[38;5;28mself\u001b[39m\u001b[38;5;241m.\u001b[39mstorage_dir)\n\u001b[1;32m---> 28\u001b[0m     storage_context \u001b[38;5;241m=\u001b[39m \u001b[43mStorageContext\u001b[49m\u001b[38;5;241;43m.\u001b[39;49m\u001b[43mfrom_dir\u001b[49m(persist_dir\u001b[38;5;241m=\u001b[39m\u001b[38;5;28mself\u001b[39m\u001b[38;5;241m.\u001b[39mstorage_dir)\n\u001b[0;32m     29\u001b[0m     \u001b[38;5;28mself\u001b[39m\u001b[38;5;241m.\u001b[39mindex \u001b[38;5;241m=\u001b[39m load_index_from_storage(storage_context)\n\u001b[0;32m     30\u001b[0m \u001b[38;5;28;01melse\u001b[39;00m:\n",
      "\u001b[1;31mAttributeError\u001b[0m: type object 'StorageContext' has no attribute 'from_dir'"
     ]
    }
   ],
   "source": [
    "import os\n",
    "from llama_index.core import VectorStoreIndex, SimpleDirectoryReader\n",
    "from llama_index.core import StorageContext, load_index_from_storage\n",
    "from llama_index.embeddings.huggingface import HuggingFaceEmbedding\n",
    "from llama_index.core import Settings\n",
    "\n",
    "class ResumeQASystem:\n",
    "    def __init__(self, pdf_path):\n",
    "        self.pdf_path = pdf_path\n",
    "        self.index = None\n",
    "        self.storage_dir = \"./resume_index\"\n",
    "        \n",
    "        # Set up local embedding model\n",
    "        embed_model = HuggingFaceEmbedding(\n",
    "            model_name=\"BAAI/bge-small-en-v1.5\"\n",
    "        )\n",
    "        Settings.embed_model = embed_model\n",
    "        \n",
    "    def load_resume(self):\n",
    "        documents = SimpleDirectoryReader(input_files=[self.pdf_path]).load_data()\n",
    "        \n",
    "        self.index = VectorStoreIndex.from_documents(documents)\n",
    "        self.index.storage_context.persist(persist_dir=self.storage_dir)\n",
    "        \n",
    "    def load_existing_index(self):\n",
    "        if os.path.exists(self.storage_dir):\n",
    "            print(self.storage_dir)\n",
    "            #storage_context = StorageContext.from_dir(persist_dir=self.storage_dir)\n",
    "            storage_context = StorageContext.\n",
    "            self.index = load_index_from_storage(storage_context)\n",
    "             \n",
    "        else:\n",
    "            self.load_resume()\n",
    "        \n",
    "    def query_resume(self, query):\n",
    "        if self.index is None:\n",
    "            self.load_existing_index()\n",
    "        \n",
    "        query_engine = self.index.as_query_engine()\n",
    "        response = query_engine.query(query)\n",
    "        \n",
    "        return str(response)\n",
    "\n",
    "# Usage\n",
    "def main():\n",
    "    resume_path = 'res.pdf'\n",
    "    \n",
    "    resume_qa = ResumeQASystem(resume_path)\n",
    "    resume_qa.load_existing_index()\n",
    "    \n",
    "    queries = [\n",
    "        \"What is my work experience?\",\n",
    "        \"Where did I complete my education?\"\n",
    "    ]\n",
    "    \n",
    "    for query in queries:\n",
    "        print(f\"Query: {query}\")\n",
    "        print(f\"Response: {resume_qa.query_resume(query)}\\n\")\n",
    "\n",
    "\n"
   ]
  },
  {
   "cell_type": "code",
   "execution_count": null,
   "metadata": {},
   "outputs": [],
   "source": [
    "if __name__ == \"__main__\":\n",
    "    main()"
   ]
  }
 ],
 "metadata": {
  "kernelspec": {
   "display_name": "venv",
   "language": "python",
   "name": "python3"
  },
  "language_info": {
   "codemirror_mode": {
    "name": "ipython",
    "version": 3
   },
   "file_extension": ".py",
   "mimetype": "text/x-python",
   "name": "python",
   "nbconvert_exporter": "python",
   "pygments_lexer": "ipython3",
   "version": "3.12.3"
  }
 },
 "nbformat": 4,
 "nbformat_minor": 2
}
